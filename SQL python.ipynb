{
 "cells": [
  {
   "cell_type": "code",
   "execution_count": 1,
   "id": "0f031a60-bdb0-4c0d-b5ff-eaa5dce1c160",
   "metadata": {},
   "outputs": [],
   "source": [
    "import sqlite3\n",
    "import pandas as pd # Using pandas to clean up appearances of query results\n",
    "connection = sqlite3.connect('sqlite_db_pythonsqlite.db')\n",
    "cur = connection.cursor().execute\n",
    "def sql(query): # defined function because I'm lazy and didn't want keep typing methods\n",
    "    return cur(query).fetchall()"
   ]
  },
  {
   "cell_type": "code",
   "execution_count": 2,
   "id": "769be9a3-e397-426b-8d76-b58638ac86c6",
   "metadata": {},
   "outputs": [
    {
     "data": {
      "text/plain": [
       "[(0, 'Tennis Court 1', 5, 25, 10000, 200),\n",
       " (1, 'Tennis Court 2', 5, 25, 8000, 200),\n",
       " (2, 'Badminton Court', 0, 15.5, 4000, 50),\n",
       " (3, 'Table Tennis', 0, 5, 320, 10),\n",
       " (4, 'Massage Room 1', 9.9, 80, 4000, 3000),\n",
       " (5, 'Massage Room 2', 9.9, 80, 4000, 3000),\n",
       " (6, 'Squash Court', 3.5, 17.5, 5000, 80),\n",
       " (7, 'Snooker Table', 0, 5, 450, 15),\n",
       " (8, 'Pool Table', 0, 5, 400, 15)]"
      ]
     },
     "execution_count": 2,
     "metadata": {},
     "output_type": "execute_result"
    }
   ],
   "source": [
    "sql('Select * from Facilities')"
   ]
  },
  {
   "cell_type": "markdown",
   "id": "28a819f0-3f4d-4b2f-9ff5-1d6a2097a078",
   "metadata": {},
   "source": [
    "\"\"\"Q10: Produce a list of facilities with a total revenue less than 1000.\n",
    "The output of facility name and total revenue, sorted by revenue. Remember\n",
    "that there's a different cost for guests and members!\"\""
   ]
  },
  {
   "cell_type": "code",
   "execution_count": null,
   "id": "55af99e0-914f-4bc8-8bee-e50f1f1ad1ec",
   "metadata": {},
   "outputs": [],
   "source": [
    "db = pd.DataFrame(sql(\"\"\"SELECT f.name,\n",
    "\tSUM(CASE \n",
    "\t\tWHEN b.memid <>0 \n",
    "\t\t\tTHEN f.membercost*b.slots\n",
    "\t\t\tELSE f.guestcost*b.slots\n",
    "\t\tEND) AS revenue\n",
    "FROM Bookings as b\n",
    "INNER JOIN Facilities as f\n",
    "ON b.facid = f.facid\n",
    "GROUP BY f.name\n",
    "HAVING revenue > 1000\n",
    "ORDER BY revenue DESC\n",
    ";\n",
    "        \"\"\"))\n",
    "db\n",
    "db.rename(columns={0:'Facility', 1:'Total Revenue'})"
   ]
  }
 ],
 "metadata": {
  "kernelspec": {
   "display_name": "Python 3 (ipykernel)",
   "language": "python",
   "name": "python3"
  },
  "language_info": {
   "codemirror_mode": {
    "name": "ipython",
    "version": 3
   },
   "file_extension": ".py",
   "mimetype": "text/x-python",
   "name": "python",
   "nbconvert_exporter": "python",
   "pygments_lexer": "ipython3",
   "version": "3.9.12"
  }
 },
 "nbformat": 4,
 "nbformat_minor": 5
}
